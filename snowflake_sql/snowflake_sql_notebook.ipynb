{
 "cells": [
  {
   "cell_type": "markdown",
   "id": "e9da0df7-b6f9-4b04-88d1-846da1650808",
   "metadata": {
    "name": "cell1"
   },
   "source": [
    "# Snowflake Customer Insights with Cortex LLMs\n",
    "\n",
    "This notebook replicates the data loading and modeling process for generating customer insights using Snowflake and Cortex LLM functions. It covers:\n",
    "1. Setup of database, schemas, and roles.\n",
    "2. Creation of file formats and stages for data ingestion.\n",
    "3. Loading raw JSON data into transient tables.\n",
    "4. Transforming raw data into staging tables.\n",
    "5. Creating fact tables enriched with Cortex LLM functions (sentiment analysis, translation, classification, completion).\n",
    "6. Building analytical tables for sentiment trends, ticket patterns, and customer summaries.\n",
    "7. Developing a customer persona and signals table.\n",
    "8. Running analytical queries to derive insights.\n",
    "9. Adding comments to tables and columns for documentation."
   ]
  },
  {
   "cell_type": "markdown",
   "id": "de2c4c5d-6abe-4c69-a2f9-c4dd93b26ff6",
   "metadata": {
    "name": "cell2"
   },
   "source": [
    "## 1. Initial Setup: Roles and Warehouse\n",
    "Ensure the correct role (ACCOUNTADMIN for initial setup, then DBT_ROLE) and an active warehouse (CORTEX_WH) are being used."
   ]
  },
  {
   "cell_type": "code",
   "execution_count": null,
   "id": "fd25a74e-02c5-4260-93d6-0a5e2e2f282b",
   "metadata": {
    "language": "sql",
    "name": "cell3"
   },
   "outputs": [],
   "source": [
    "-- Create database and schemas\n",
    "USE ROLE ACCOUNTADMIN;\n",
    "\n",
    "CREATE ROLE IF NOT EXISTS DBT_ROLE;\n",
    "GRANT ROLE DBT_ROLE TO USER CURRENT_USER();\n",
    "\n",
    "USE ROLE DBT_ROLE;\n",
    "\n",
    "CREATE WAREHOUSE IF NOT EXISTS CORTEX_WH \n",
    "SIZE = 'X-SMALL' \n",
    "AUTO_SUSPEND = 60\n",
    "AUTO_RESUME = TRUE;\n",
    "\n",
    "USE WAREHOUSE CORTEX_WH;\n",
    "\n",
    "DROP DATABASE IF EXISTS DBT_CORTEX_LLMS;\n",
    "\n",
    "USE ROLE DBT_ROLE;\n",
    "CREATE DATABASE IF NOT EXISTS DBT_CORTEX_LLMS;\n",
    "CREATE SCHEMA IF NOT EXISTS DBT_CORTEX_LLMS.RAW;\n",
    "CREATE SCHEMA IF NOT EXISTS DBT_CORTEX_LLMS.ANALYTICS;\n",
    "CREATE SCHEMA IF NOT EXISTS DBT_CORTEX_LLMS.SEMANTIC_MODELS;\n",
    "\n",
    "--This SQL Script mimics the dbt project for loading and modelling the data in Snowflake\n",
    "-- Set the role for this session\n",
    "USE DATABASE DBT_CORTEX_LLMS;"
   ]
  },
  {
   "cell_type": "markdown",
   "id": "c8265e32-9e6b-4284-96c0-e289ae6f8e40",
   "metadata": {
    "name": "cell4"
   },
   "source": [
    "## 2. Database and Schema Creation\n",
    "Set up the database `DBT_CORTEX_LLMS` and the necessary schemas: `RAW`, `ANALYTICS`, and `SEMANTIC_MODELS`. This structure helps organize the data flow from raw ingestion to analytical and semantic layers."
   ]
  },
  {
   "cell_type": "code",
   "execution_count": null,
   "id": "350c68a6-4755-4fc2-aa8f-f375c9ed0346",
   "metadata": {
    "language": "sql",
    "name": "cell5"
   },
   "outputs": [],
   "source": [
    "DROP DATABASE IF EXISTS DBT_CORTEX_LLMS;\n",
    "\n",
    "USE ROLE DBT_ROLE; -- Switched to DBT_ROLE as per the script's logic for creating these objects\n",
    "CREATE DATABASE IF NOT EXISTS DBT_CORTEX_LLMS;\n",
    "USE DATABASE DBT_CORTEX_LLMS;\n",
    "\n",
    "CREATE SCHEMA IF NOT EXISTS DBT_CORTEX_LLMS.RAW;\n",
    "CREATE SCHEMA IF NOT EXISTS DBT_Cortex_LLMS.ANALYTICS;\n",
    "CREATE SCHEMA IF NOT EXISTS DBT_CORTEX_LLMS.SEMANTIC_MODELS;"
   ]
  },
  {
   "cell_type": "markdown",
   "id": "db2dd080-1d84-42bb-a49d-7dd715f980f1",
   "metadata": {
    "name": "cell6"
   },
   "source": [
    "## 3. File Format and Stage Setup\n",
    "Create a JSON file format to handle the structure of the incoming data files. Also, set up a stage where the raw data files will be uploaded."
   ]
  },
  {
   "cell_type": "code",
   "execution_count": null,
   "id": "0ff401f9-05d0-4538-9e43-890405abdd06",
   "metadata": {
    "language": "sql",
    "name": "cell7"
   },
   "outputs": [],
   "source": [
    "USE SCHEMA RAW; -- Ensuring commands are executed in the RAW schema context\n",
    "\n",
    "CREATE OR REPLACE FILE FORMAT JSON_FORMAT\n",
    "    TYPE = 'JSON'\n",
    "    STRIP_OUTER_ARRAY = TRUE\n",
    "    COMPRESSION = 'AUTO';\n",
    "\n",
    "CREATE OR REPLACE STAGE RAW_DATA_STAGE;"
   ]
  },
  {
   "cell_type": "markdown",
   "id": "ff1eaf6f-6a98-49fc-a597-4d1bb1c09fbb",
   "metadata": {
    "name": "cell8"
   },
   "source": [
    "## 4. Data Upload (Placeholder)\n",
    "The `PUT` commands are used to upload local files to the Snowflake stage. These commands are typically run via SnowSQL or a Snowflake connector, not directly in a SQL worksheet if the files aren't accessible from the Snowflake environment directly. \n",
    "\n",
    "**Note:** For this notebook, these `PUT` commands are placeholders. You would need to execute these using SnowSQL or an equivalent tool, pointing to the actual location of your JSON data files (`customer_interactions.json`, `product_reviews.json`, `support_tickets.json`, `customers.json`).\n",
    "\n",
    "```sql\n",
    "-- PUT file://data/customer_interactions.json @RAW.RAW_DATA_STAGE;\n",
    "-- PUT file://data/product_reviews.json @RAW.RAW_DATA_STAGE;\n",
    "-- PUT file://data/support_tickets.json @RAW.RAW_DATA_STAGE;\n",
    "-- PUT file://data/customers.json @RAW.RAW_DATA_STAGE;\n",
    "```"
   ]
  },
  {
   "cell_type": "markdown",
   "id": "19f77207-ebf1-41ed-829d-a6622d20f9de",
   "metadata": {
    "name": "cell9"
   },
   "source": [
    "## 5. Raw Data Table Creation\n",
    "Create transient tables in the `RAW` schema to initially load the JSON data. Using `VARIANT` type allows for flexible ingestion of semi-structured JSON."
   ]
  },
  {
   "cell_type": "code",
   "execution_count": null,
   "id": "2073793c-928c-4ed2-a8d0-02c73322f030",
   "metadata": {
    "language": "sql",
    "name": "cell10"
   },
   "outputs": [],
   "source": [
    "USE SCHEMA RAW;\n",
    "\n",
    "CREATE OR REPLACE TRANSIENT TABLE CUSTOMER_INTERACTIONS (data VARIANT);\n",
    "CREATE OR REPLACE TRANSIENT TABLE PRODUCT_REVIEWS (data VARIANT);\n",
    "CREATE OR REPLACE TRANSIENT TABLE SUPPORT_TICKETS (data VARIANT);\n",
    "CREATE OR REPLACE TRANSIENT TABLE CUSTOMERS (data VARIANT);"
   ]
  },
  {
   "cell_type": "markdown",
   "id": "dfd7af32-d3ce-4e38-8946-ad73b742a3a9",
   "metadata": {
    "name": "cell11"
   },
   "source": [
    "## 6. Data Loading into Raw Tables\n",
    "Copy data from the staged JSON files into the respective raw tables using the `COPY INTO` command and the previously defined JSON file format."
   ]
  },
  {
   "cell_type": "code",
   "execution_count": null,
   "id": "45d540b3-850a-4c0f-9bee-4fd0e9eba426",
   "metadata": {
    "language": "sql",
    "name": "cell12"
   },
   "outputs": [],
   "source": [
    "USE SCHEMA RAW;\n",
    "\n",
    "COPY INTO CUSTOMER_INTERACTIONS\n",
    "FROM @RAW_DATA_STAGE/customer_interactions.json\n",
    "FILE_FORMAT = JSON_FORMAT\n",
    "ON_ERROR = 'CONTINUE';\n",
    "\n",
    "COPY INTO PRODUCT_REVIEWS\n",
    "FROM @RAW_DATA_STAGE/product_reviews.json\n",
    "FILE_FORMAT = JSON_FORMAT\n",
    "ON_ERROR = 'CONTINUE';\n",
    "\n",
    "COPY INTO SUPPORT_TICKETS\n",
    "FROM @RAW_DATA_STAGE/support_tickets.json\n",
    "FILE_FORMAT = JSON_FORMAT\n",
    "ON_ERROR = 'CONTINUE';\n",
    "\n",
    "COPY INTO CUSTOMERS\n",
    "FROM @RAW_DATA_STAGE/customers.json\n",
    "FILE_FORMAT = JSON_FORMAT\n",
    "ON_ERROR = 'CONTINUE';"
   ]
  },
  {
   "cell_type": "markdown",
   "id": "c9092bca-c8d3-4e86-a8f7-07a59a38798d",
   "metadata": {
    "name": "cell13"
   },
   "source": [
    "## 7. Staging Layer - Data Cleaning and Transformation\n",
    "Transform the raw JSON data into structured staging tables in the `ANALYTICS` schema. This involves selecting specific fields, casting data types, and handling potential errors during conversion (e.g., using `TRY_TO_TIMESTAMP_NTZ`)."
   ]
  },
  {
   "cell_type": "code",
   "execution_count": null,
   "id": "bbecba72-e04b-48bc-aead-e9d70a388d5d",
   "metadata": {
    "language": "sql",
    "name": "cell14"
   },
   "outputs": [],
   "source": [
    "USE SCHEMA ANALYTICS;\n",
    "\n",
    "-- Customer Interactions Staging Table\n",
    "CREATE OR REPLACE TABLE STG_CUSTOMER_INTERACTIONS AS\n",
    "SELECT\n",
    "    data:interaction_id::VARCHAR AS interaction_id,\n",
    "    data:customer_id::VARCHAR AS customer_id,\n",
    "    TRY_TO_TIMESTAMP_NTZ(data:interaction_date::VARCHAR) AS interaction_date,\n",
    "    data:agent_id::VARCHAR AS agent_id,\n",
    "    data:interaction_type::VARCHAR AS interaction_type,\n",
    "    data:interaction_notes::VARCHAR AS interaction_notes\n",
    "FROM RAW.CUSTOMER_INTERACTIONS;\n",
    "\n",
    "-- Product Reviews Staging Table\n",
    "CREATE OR REPLACE TABLE STG_PRODUCT_REVIEWS AS\n",
    "SELECT\n",
    "    data:review_id::VARCHAR AS review_id,\n",
    "    data:customer_id::VARCHAR AS customer_id,\n",
    "    data:product_id::VARCHAR AS product_id,\n",
    "    TRY_TO_TIMESTAMP_NTZ(data:review_date::VARCHAR) AS review_date,\n",
    "    data:review_rating::NUMBER AS review_rating,\n",
    "    data:review_text::VARCHAR AS review_text,\n",
    "    data:review_language::VARCHAR AS review_language\n",
    "FROM RAW.PRODUCT_REVIEWS;\n",
    "\n",
    "-- Support Tickets Staging Table\n",
    "CREATE OR REPLACE TABLE STG_SUPPORT_TICKETS AS\n",
    "SELECT\n",
    "    data:ticket_id::VARCHAR AS ticket_id,\n",
    "    data:customer_id::VARCHAR AS customer_id,\n",
    "    TRY_TO_TIMESTAMP_NTZ(data:ticket_date::VARCHAR) AS ticket_date,\n",
    "    data:ticket_status::VARCHAR AS ticket_status,\n",
    "    data:ticket_category::VARCHAR AS ticket_category,\n",
    "    data:ticket_description::VARCHAR AS ticket_description\n",
    "FROM RAW.SUPPORT_TICKETS;"
   ]
  },
  {
   "cell_type": "markdown",
   "id": "757b9584-30e6-4ecf-86fe-9c580b3a6de7",
   "metadata": {
    "name": "cell15"
   },
   "source": [
    "## 8. Customer Dimension Table\n",
    "Create a customer dimension table (`CUSTOMER_BASE`) from the raw customers data. This table holds key customer attributes."
   ]
  },
  {
   "cell_type": "code",
   "execution_count": null,
   "id": "e1b6a3d7-b1cd-4663-b660-bbd409929334",
   "metadata": {
    "language": "sql",
    "name": "cell16"
   },
   "outputs": [],
   "source": [
    "USE SCHEMA ANALYTICS;\n",
    "\n",
    "CREATE OR REPLACE TABLE CUSTOMER_BASE AS\n",
    "SELECT\n",
    "    data:customer_id::VARCHAR AS customer_id,\n",
    "    data:persona::VARCHAR AS persona,\n",
    "    TRY_TO_DATE(data:sign_up_date::VARCHAR) AS sign_up_date,\n",
    "    data:products_owned::NUMBER AS products_owned,\n",
    "    data:lifetime_value::NUMBER AS lifetime_value\n",
    "FROM RAW.CUSTOMERS;"
   ]
  },
  {
   "cell_type": "markdown",
   "id": "e4bff287-619f-4fc2-a65c-8c04d4ea340a",
   "metadata": {
    "name": "cell17"
   },
   "source": [
    "## 9. Fact Tables - Enriched with Cortex LLM Functions\n",
    "Create fact tables from the staging tables. These tables are enriched with insights derived from Snowflake Cortex LLM functions:\n",
    "- `SNOWFLAKE.CORTEX.SENTIMENT` for sentiment analysis.\n",
    "- `SNOWFLAKE.CORTEX.TRANSLATE` for standardizing text to English.\n",
    "- `SNOWFLAKE.CORTEX.CLASSIFY_TEXT` for categorizing support ticket priority.\n",
    "- `SNOWFLAKE.CORTEX.COMPLETE` for extracting specific information like expected resolution times and requested remedies."
   ]
  },
  {
   "cell_type": "markdown",
   "id": "2b139237-3ed4-4efa-8bd3-cbf7d3b80f02",
   "metadata": {
    "name": "cell18"
   },
   "source": [
    "### 9.1 Fact Customer Interactions"
   ]
  },
  {
   "cell_type": "code",
   "execution_count": null,
   "id": "5a400d11-7e57-4678-a667-fe0bf4de1b58",
   "metadata": {
    "language": "sql",
    "name": "cell19"
   },
   "outputs": [],
   "source": [
    "USE SCHEMA ANALYTICS;\n",
    "\n",
    "CREATE OR REPLACE TABLE FACT_CUSTOMER_INTERACTIONS AS\n",
    "SELECT\n",
    "    i.interaction_id,\n",
    "    i.customer_id,\n",
    "    i.interaction_date,\n",
    "    i.agent_id,\n",
    "    i.interaction_type,\n",
    "    i.interaction_notes,\n",
    "    SNOWFLAKE.CORTEX.SENTIMENT(i.interaction_notes) AS sentiment_score\n",
    "FROM ANALYTICS.STG_CUSTOMER_INTERACTIONS i\n",
    "WHERE i.interaction_notes IS NOT NULL;"
   ]
  },
  {
   "cell_type": "markdown",
   "id": "c91f113f-c5b6-45f1-a1a6-705de63b45d5",
   "metadata": {
    "name": "cell20"
   },
   "source": [
    "### 9.2 Fact Product Reviews"
   ]
  },
  {
   "cell_type": "code",
   "execution_count": null,
   "id": "2e6f039b-4c18-4fcc-87c3-cd0d01e638ff",
   "metadata": {
    "language": "sql",
    "name": "cell21"
   },
   "outputs": [],
   "source": [
    "USE SCHEMA ANALYTICS;\n",
    "\n",
    "CREATE OR REPLACE TABLE FACT_PRODUCT_REVIEWS AS\n",
    "SELECT\n",
    "    r.review_id,\n",
    "    r.customer_id,\n",
    "    r.product_id,\n",
    "    r.review_date,\n",
    "    r.review_rating,\n",
    "    r.review_text,\n",
    "    r.review_language,\n",
    "    SNOWFLAKE.CORTEX.SENTIMENT(r.review_text) AS sentiment_score,\n",
    "    CASE\n",
    "        WHEN CONTAINS(LOWER(r.review_language), 'german') THEN SNOWFLAKE.CORTEX.TRANSLATE(r.review_text, 'de', 'en')\n",
    "        WHEN CONTAINS(LOWER(r.review_language), 'french') THEN SNOWFLAKE.CORTEX.TRANSLATE(r.review_text, 'fr', 'en')\n",
    "        WHEN CONTAINS(LOWER(r.review_language), 'spanish') THEN SNOWFLAKE.CORTEX.TRANSLATE(r.review_text, 'es', 'en')\n",
    "        WHEN CONTAINS(LOWER(r.review_language), 'italian') THEN SNOWFLAKE.CORTEX.TRANSLATE(r.review_text, 'it', 'en')\n",
    "        WHEN CONTAINS(LOWER(r.review_language), 'portuguese') THEN SNOWFLAKE.CORTEX.TRANSLATE(r.review_text, 'pt', 'en')\n",
    "        WHEN CONTAINS(LOWER(r.review_language), 'chinese') THEN SNOWFLAKE.CORTEX.TRANSLATE(r.review_text, 'zh', 'en')\n",
    "        WHEN CONTAINS(LOWER(r.review_language), 'japanese') THEN SNOWFLAKE.CORTEX.TRANSLATE(r.review_text, 'ja', 'en')\n",
    "        WHEN CONTAINS(LOWER(r.review_language), 'korean') THEN SNOWFLAKE.CORTEX.TRANSLATE(r.review_text, 'ko', 'en')\n",
    "        WHEN CONTAINS(LOWER(r.review_language), 'russian') THEN SNOWFLAKE.CORTEX.TRANSLATE(r.review_text, 'ru', 'en')\n",
    "        WHEN CONTAINS(LOWER(r.review_language), 'arabic') THEN SNOWFLAKE.CORTEX.TRANSLATE(r.review_text, 'ar', 'en')\n",
    "        ELSE r.review_text\n",
    "    END AS review_text_english\n",
    "FROM ANALYTICS.STG_PRODUCT_REVIEWS r\n",
    "WHERE r.review_text IS NOT NULL;"
   ]
  },
  {
   "cell_type": "markdown",
   "id": "ed98af0b-b49f-4dbc-81d4-609ae5a16e5e",
   "metadata": {
    "name": "cell22"
   },
   "source": [
    "### 9.3 Fact Support Tickets"
   ]
  },
  {
   "cell_type": "code",
   "execution_count": null,
   "id": "6e37e6ff-ad45-4299-a635-eadf591ded14",
   "metadata": {
    "language": "sql",
    "name": "cell23"
   },
   "outputs": [],
   "source": [
    "USE SCHEMA ANALYTICS;\n",
    "\n",
    "CREATE OR REPLACE TABLE FACT_SUPPORT_TICKETS AS\n",
    "SELECT\n",
    "    t.ticket_id,\n",
    "    t.customer_id,\n",
    "    t.ticket_date,\n",
    "    t.ticket_status,\n",
    "    t.ticket_category,\n",
    "    t.ticket_description,\n",
    "    SNOWFLAKE.CORTEX.SENTIMENT(t.ticket_description) AS sentiment_score,\n",
    "    SNOWFLAKE.CORTEX.CLASSIFY_TEXT(\n",
    "        t.ticket_description,\n",
    "        [\n",
    "            {\n",
    "                'label': 'Critical',\n",
    "                'description': 'Requires immediate attention and resolution',\n",
    "                'examples': [\n",
    "                    'System is down and customers cannot place orders',\n",
    "                    'Security breach detected',\n",
    "                    'Payment processing completely stopped',\n",
    "                    'All users locked out of the system',\n",
    "                    'Cannot access my account',\n",
    "                    'Order stuck in processing',\n",
    "                    'Payment failed',\n",
    "                    'Website not loading',\n",
    "                    'Critical feature not working',\n",
    "                    'Data loss or corruption'\n",
    "                ]\n",
    "            },\n",
    "            {\n",
    "                'label': 'High',\n",
    "                'description': 'Should be resolved within 24 hours',\n",
    "                'examples': [\n",
    "                    'Customer cannot complete checkout',\n",
    "                    'Order status stuck in processing',\n",
    "                    'Unable to access account',\n",
    "                    'Payment failed for multiple customers',\n",
    "                    'Product not working as expected',\n",
    "                    'Account access issues',\n",
    "                    'Billing problems',\n",
    "                    'Service disruption',\n",
    "                    'Performance issues',\n",
    "                    'Security concerns'\n",
    "                ]\n",
    "            },\n",
    "            {\n",
    "                'label': 'Medium',\n",
    "                'description': 'Should be resolved within 3 days',\n",
    "                'examples': [\n",
    "                    'Product image not displaying correctly',\n",
    "                    'Slow response times in certain areas',\n",
    "                    'Minor UI issues',\n",
    "                    'Account settings not saving',\n",
    "                    'Feature not working as expected',\n",
    "                    'Minor display issues',\n",
    "                    'Non-critical performance problems',\n",
    "                    'General functionality questions',\n",
    "                    'Minor account issues',\n",
    "                    'Non-urgent technical problems'\n",
    "                ]\n",
    "            },\n",
    "            {\n",
    "                'label': 'Low',\n",
    "                'description': 'Can be handled in regular queue',\n",
    "                'examples': [\n",
    "                    'General product questions',\n",
    "                    'Feature request',\n",
    "                    'UI enhancement suggestion',\n",
    "                    'Documentation clarification',\n",
    "                    'How-to questions',\n",
    "                    'Product information request',\n",
    "                    'General feedback',\n",
    "                    'Non-technical questions',\n",
    "                    'Account information request',\n",
    "                    'General support questions'\n",
    "                ]\n",
    "            }\n",
    "        ],\n",
    "        {\n",
    "            'task_description': 'Classify the urgency level of this support ticket based on its description. When in doubt, classify as Critical or High priority if the issue affects core functionality or user access.'\n",
    "        }\n",
    "    )['label'] AS priority_level,\n",
    "    SNOWFLAKE.CORTEX.COMPLETE(\n",
    "        'claude-4-sonnet', -- Using a placeholder model, ensure this is updated if a specific model is required/available\n",
    "        'What specific timeframe or deadline does the customer mention or expect for resolution? ' || t.ticket_description\n",
    "    ) AS expected_resolution_timeframe,\n",
    "    SNOWFLAKE.CORTEX.COMPLETE(\n",
    "        'claude-4-sonnet', -- Using a placeholder model\n",
    "        'What compensation, refund, or specific remedy is the customer seeking? ' || t.ticket_description\n",
    "    ) AS requested_remedy\n",
    "FROM ANALYTICS.STG_SUPPORT_TICKETS t\n",
    "WHERE t.ticket_description IS NOT NULL;"
   ]
  },
  {
   "cell_type": "markdown",
   "id": "f7e50ef0-3249-44bd-b37a-2886eb1a05c2",
   "metadata": {
    "name": "cell24"
   },
   "source": [
    "## 10. Analysis Layer Tables\n",
    "Create tables that aggregate and analyze data from the fact tables. This includes sentiment analysis over time, trends, and ticket patterns."
   ]
  },
  {
   "cell_type": "markdown",
   "id": "6dc76b32-039a-4430-b7dd-e592d4db99d6",
   "metadata": {
    "name": "cell25"
   },
   "source": [
    "### 10.1 Sentiment Analysis (Combined)"
   ]
  },
  {
   "cell_type": "code",
   "execution_count": null,
   "id": "7a34d115-14e0-40a0-bede-0c5f30b4f33a",
   "metadata": {
    "language": "sql",
    "name": "cell26"
   },
   "outputs": [],
   "source": [
    "USE SCHEMA ANALYTICS;\n",
    "\n",
    "CREATE OR REPLACE TABLE SENTIMENT_ANALYSIS AS\n",
    "WITH interaction_sentiment AS (\n",
    "    SELECT\n",
    "        customer_id,\n",
    "        interaction_date,\n",
    "        sentiment_score,\n",
    "        'interaction' AS source_type\n",
    "    FROM ANALYTICS.FACT_CUSTOMER_INTERACTIONS\n",
    "),\n",
    "review_sentiment AS (\n",
    "    SELECT\n",
    "        customer_id,\n",
    "        review_date AS interaction_date,\n",
    "        sentiment_score,\n",
    "        'review' AS source_type\n",
    "    FROM ANALYTICS.FACT_PRODUCT_REVIEWS\n",
    "),\n",
    "ticket_sentiment AS (\n",
    "    SELECT\n",
    "        customer_id,\n",
    "        ticket_date AS interaction_date,\n",
    "        sentiment_score,\n",
    "        'ticket' AS source_type\n",
    "    FROM ANALYTICS.FACT_SUPPORT_TICKETS\n",
    ")\n",
    "SELECT * FROM interaction_sentiment\n",
    "UNION ALL\n",
    "SELECT * FROM review_sentiment\n",
    "UNION ALL\n",
    "SELECT * FROM ticket_sentiment;"
   ]
  },
  {
   "cell_type": "markdown",
   "id": "56757a6e-e203-41c7-93be-ee0c960c9133",
   "metadata": {
    "name": "cell27"
   },
   "source": [
    "### 10.2 Sentiment Trends Analysis"
   ]
  },
  {
   "cell_type": "code",
   "execution_count": null,
   "id": "247045e4-2174-464a-9c7b-a704d5b86820",
   "metadata": {
    "language": "sql",
    "name": "cell28"
   },
   "outputs": [],
   "source": [
    "USE SCHEMA ANALYTICS;\n",
    "\n",
    "CREATE OR REPLACE TABLE SENTIMENT_TRENDS AS\n",
    "WITH sentiment_data AS (\n",
    "    SELECT\n",
    "        customer_id,\n",
    "        sentiment_score,\n",
    "        interaction_date,\n",
    "        FIRST_VALUE(sentiment_score) OVER (PARTITION BY customer_id ORDER BY interaction_date) AS first_sentiment,\n",
    "        LAST_VALUE(sentiment_score) OVER (PARTITION BY customer_id ORDER BY interaction_date \n",
    "                                         ROWS BETWEEN UNBOUNDED PRECEDING AND UNBOUNDED FOLLOWING) AS last_sentiment\n",
    "    FROM ANALYTICS.SENTIMENT_ANALYSIS\n",
    ")\n",
    "SELECT\n",
    "    customer_id,\n",
    "    ARRAY_AGG(sentiment_score) WITHIN GROUP (ORDER BY interaction_date) AS sentiment_history,\n",
    "    AVG(sentiment_score) AS avg_sentiment,\n",
    "    MIN(sentiment_score) AS min_sentiment,\n",
    "    MAX(sentiment_score) AS max_sentiment,\n",
    "    MAX(sentiment_score) - MIN(sentiment_score) AS sentiment_volatility,\n",
    "    CASE\n",
    "        WHEN COUNT(*) > 1 THEN \n",
    "            MAX(last_sentiment) - MAX(first_sentiment) -- This will be the same as last_sentiment - first_sentiment due to MAX on already partitioned values\n",
    "        ELSE 0\n",
    "    END AS sentiment_trend\n",
    "FROM sentiment_data\n",
    "GROUP BY customer_id;"
   ]
  },
  {
   "cell_type": "markdown",
   "id": "c51a2a38-b647-4676-93a6-5c5bc95549aa",
   "metadata": {
    "name": "cell29"
   },
   "source": [
    "### 10.3 Ticket Pattern Analysis"
   ]
  },
  {
   "cell_type": "code",
   "execution_count": null,
   "id": "cab31a36-6edf-4f89-90df-04c7e9f00f81",
   "metadata": {
    "language": "sql",
    "name": "cell30"
   },
   "outputs": [],
   "source": [
    "USE SCHEMA ANALYTICS;\n",
    "\n",
    "CREATE OR REPLACE TABLE TICKET_PATTERNS AS\n",
    "SELECT\n",
    "    customer_id,\n",
    "    COUNT(*) AS ticket_count,\n",
    "    MIN(ticket_date) AS first_ticket_date,\n",
    "    MAX(ticket_date) AS most_recent_ticket_date,\n",
    "    ARRAY_AGG(ticket_category) WITHIN GROUP (ORDER BY ticket_date) AS ticket_categories,\n",
    "    ARRAY_AGG(priority_level) WITHIN GROUP (ORDER BY ticket_date) AS ticket_priorities\n",
    "FROM ANALYTICS.FACT_SUPPORT_TICKETS\n",
    "GROUP BY customer_id;"
   ]
  },
  {
   "cell_type": "markdown",
   "id": "fbe8764e-fed3-427b-8b7e-17a5e65b5918",
   "metadata": {
    "name": "cell31"
   },
   "source": [
    "### 10.4 Customer Insight Summaries (using Cortex LLM)"
   ]
  },
  {
   "cell_type": "code",
   "execution_count": null,
   "id": "55f2901e-3b51-46aa-831f-f9329c5d85bd",
   "metadata": {
    "language": "sql",
    "name": "cell32"
   },
   "outputs": [],
   "source": [
    "USE SCHEMA ANALYTICS;\n",
    "\n",
    "CREATE OR REPLACE TABLE INSIGHT_SUMMARIES AS\n",
    "SELECT\n",
    "    customer_id,\n",
    "    SNOWFLAKE.CORTEX.COMPLETE(\n",
    "        'claude-4-sonnet', -- Using a placeholder model\n",
    "        [\n",
    "            {\n",
    "                'role': 'user',\n",
    "                'content': 'Summarize the following customer interactions in 100 words or less: ' || \n",
    "                ARRAY_TO_STRING(\n",
    "                    ARRAY_AGG(\n",
    "                        CASE\n",
    "                            WHEN interaction_notes IS NOT NULL THEN interaction_notes\n",
    "                            WHEN review_text IS NOT NULL THEN review_text\n",
    "                            WHEN ticket_description IS NOT NULL THEN ticket_description\n",
    "                        END\n",
    "                    ),\n",
    "                    ' | '\n",
    "                )\n",
    "            }\n",
    "        ],\n",
    "        {'max_tokens': 100}\n",
    "    ) AS customer_summary\n",
    "FROM (\n",
    "    SELECT customer_id, interaction_notes, NULL as review_text, NULL as ticket_description\n",
    "    FROM ANALYTICS.FACT_CUSTOMER_INTERACTIONS\n",
    "    UNION ALL\n",
    "    SELECT customer_id, NULL, review_text, NULL\n",
    "    FROM ANALYTICS.FACT_PRODUCT_REVIEWS\n",
    "    UNION ALL\n",
    "    SELECT customer_id, NULL, NULL, ticket_description\n",
    "    FROM ANALYTICS.FACT_SUPPORT_TICKETS\n",
    ")\n",
    "GROUP BY customer_id;"
   ]
  },
  {
   "cell_type": "markdown",
   "id": "b9ac7495-8029-4bc8-bbfc-e5959baa138a",
   "metadata": {
    "name": "cell33"
   },
   "source": [
    "## 11. Customer Persona Analysis Table\n",
    "Combines data from various analytical tables (`CUSTOMER_BASE`, `SENTIMENT_TRENDS`, `INSIGHT_SUMMARIES`, `TICKET_PATTERNS`, `FACT_PRODUCT_REVIEWS`) to create a comprehensive `CUSTOMER_PERSONA_SIGNALS` table. This table includes derived personas, churn risk, and upsell opportunities based on customer behavior and sentiment."
   ]
  },
  {
   "cell_type": "code",
   "execution_count": null,
   "id": "2ac0860a-5db8-4c0d-8196-cc111e78fb1a",
   "metadata": {
    "language": "sql",
    "name": "cell34"
   },
   "outputs": [],
   "source": [
    "USE SCHEMA ANALYTICS;\n",
    "\n",
    "CREATE OR REPLACE TABLE CUSTOMER_PERSONA_SIGNALS AS\n",
    "SELECT \n",
    "    cb.customer_id,\n",
    "    st.avg_sentiment,\n",
    "    st.sentiment_trend,\n",
    "    st.sentiment_volatility,\n",
    "    CASE \n",
    "        WHEN st.avg_sentiment < -0.3 THEN 'Negative'\n",
    "        WHEN st.avg_sentiment > 0.3 THEN 'Positive'\n",
    "        ELSE 'Neutral'\n",
    "    END AS overall_sentiment,\n",
    "    tpat.ticket_count,\n",
    "    tpat.ticket_categories,\n",
    "    tpat.ticket_priorities,\n",
    "    AVG(pr.review_rating) AS avg_rating, -- Aggregating review rating\n",
    "    is_summary.customer_summary,\n",
    "    CASE\n",
    "        WHEN st.avg_sentiment > 0.5 AND COALESCE(tpat.ticket_count, 0) <= 1 THEN 'Satisfied'\n",
    "        WHEN st.avg_sentiment < -0.3 AND COALESCE(tpat.ticket_count, 0) >= 3 THEN 'Frustrated'\n",
    "        WHEN st.sentiment_volatility > 0.7 THEN 'Mixed'\n",
    "        WHEN st.sentiment_trend > 0.3 THEN 'Improving'\n",
    "        WHEN st.sentiment_trend < -0.3 THEN 'Deteriorating'\n",
    "        ELSE 'Neutral'\n",
    "    END AS derived_persona,\n",
    "    CASE\n",
    "        WHEN (st.avg_sentiment < -0.3 AND COALESCE(tpat.ticket_count, 0) >= 1) \n",
    "             OR (st.sentiment_trend < -0.2 AND COALESCE(tpat.ticket_count, 0) >= 1)\n",
    "             OR (st.avg_sentiment < -0.2 AND st.sentiment_trend < -0.1) THEN 'High'\n",
    "        WHEN (st.avg_sentiment < -0.1 AND st.sentiment_trend < 0) \n",
    "             OR (COALESCE(tpat.ticket_count, 0) >= 2) THEN 'Medium'\n",
    "        ELSE 'Low'\n",
    "    END AS churn_risk,\n",
    "    CASE\n",
    "        WHEN st.avg_sentiment > 0.3 AND COALESCE(tpat.ticket_count, 0) <= 1 THEN 'High'\n",
    "        WHEN st.sentiment_trend > 0.3 THEN 'Medium'\n",
    "        ELSE 'Low'\n",
    "    END AS upsell_opportunity\n",
    "FROM ANALYTICS.CUSTOMER_BASE cb\n",
    "LEFT JOIN ANALYTICS.SENTIMENT_TRENDS st USING (customer_id)\n",
    "LEFT JOIN ANALYTICS.INSIGHT_SUMMARIES is_summary USING (customer_id)\n",
    "LEFT JOIN ANALYTICS.TICKET_PATTERNS tpat USING (customer_id)\n",
    "LEFT JOIN ANALYTICS.FACT_PRODUCT_REVIEWS pr USING (customer_id)\n",
    "GROUP BY \n",
    "    cb.customer_id, \n",
    "    st.avg_sentiment, \n",
    "    st.sentiment_trend, \n",
    "    st.sentiment_volatility,\n",
    "    tpat.ticket_count,\n",
    "    tpat.ticket_categories,\n",
    "    tpat.ticket_priorities,\n",
    "    is_summary.customer_summary; -- Removed cb.persona as it's not used in SELECT or CASE statements and ensures proper grouping"
   ]
  },
  {
   "cell_type": "markdown",
   "id": "cb0ca39c-3583-407f-9b9d-f576bb6f50dd",
   "metadata": {
    "name": "cell35"
   },
   "source": [
    "## 12. 🎯 Time to Get Some Sweet Insights! \n",
    "Run analytical queries against the `CUSTOMER_PERSONA_SIGNALS` and other fact/analytical tables to derive actionable insights."
   ]
  },
  {
   "cell_type": "markdown",
   "id": "608247c0-a1db-4846-af68-d698ffd9c7aa",
   "metadata": {
    "name": "cell36"
   },
   "source": [
    "### 12.1 📊 Customer Vibes Overview - How's everyone feeling?"
   ]
  },
  {
   "cell_type": "code",
   "execution_count": null,
   "id": "bd51db57-4d0e-406c-b6ae-be365182d88d",
   "metadata": {
    "language": "sql",
    "name": "cell37"
   },
   "outputs": [],
   "source": [
    "SELECT \n",
    "    overall_sentiment,\n",
    "    COUNT(*) as customer_count,\n",
    "    ROUND(AVG(avg_sentiment), 2) as avg_sentiment_score,\n",
    "    ROUND(AVG(avg_rating), 2) as avg_product_rating\n",
    "FROM ANALYTICS.CUSTOMER_PERSONA_SIGNALS\n",
    "GROUP BY overall_sentiment\n",
    "ORDER BY customer_count DESC;"
   ]
  },
  {
   "cell_type": "markdown",
   "id": "4076ea00-cedc-4fc2-ad3b-997422c90551",
   "metadata": {
    "name": "cell38"
   },
   "source": [
    "### 12.2 🚨 Churn Risk Check - Who's thinking about ghosting us?"
   ]
  },
  {
   "cell_type": "code",
   "execution_count": null,
   "id": "5f536230-9c20-4008-b8be-2a6eeafec452",
   "metadata": {
    "language": "sql",
    "name": "cell39"
   },
   "outputs": [],
   "source": [
    "SELECT \n",
    "    churn_risk,\n",
    "    COUNT(*) as customer_count,\n",
    "    ROUND(AVG(avg_sentiment), 2) as avg_sentiment_score,\n",
    "    ROUND(AVG(sentiment_trend), 2) as avg_sentiment_trend,\n",
    "    SUM(ticket_count) as total_tickets,\n",
    "    ROUND(AVG(ticket_count), 1) as avg_tickets_per_customer,\n",
    "    COUNT(CASE WHEN overall_sentiment = 'Negative' THEN 1 END) as negative_sentiment_count,\n",
    "    COUNT(CASE WHEN overall_sentiment = 'Positive' THEN 1 END) as positive_sentiment_count\n",
    "FROM ANALYTICS.CUSTOMER_PERSONA_SIGNALS\n",
    "GROUP BY churn_risk\n",
    "ORDER BY total_tickets DESC, avg_sentiment_score ASC\n",
    "LIMIT 10;"
   ]
  },
  {
   "cell_type": "markdown",
   "id": "04ea7ea3-b021-4fdf-86a1-44cd31b4eb2e",
   "metadata": {
    "name": "cell40"
   },
   "source": [
    "### 12.3 🎫 Support Ticket Heat Map - What's hot in the support queue?"
   ]
  },
  {
   "cell_type": "code",
   "execution_count": null,
   "id": "32a1018b-9b9f-4f64-b86d-338fecac9017",
   "metadata": {
    "language": "sql",
    "name": "cell41"
   },
   "outputs": [],
   "source": [
    "SELECT \n",
    "    priority_level,\n",
    "    COUNT(*) as ticket_count,\n",
    "    ROUND(AVG(sentiment_score), 2) as avg_sentiment,\n",
    "    COUNT(DISTINCT customer_id) as unique_customers\n",
    "FROM ANALYTICS.FACT_SUPPORT_TICKETS\n",
    "GROUP BY priority_level\n",
    "ORDER BY \n",
    "    CASE priority_level\n",
    "        WHEN 'Critical' THEN 1\n",
    "        WHEN 'High' THEN 2\n",
    "        WHEN 'Medium' THEN 3\n",
    "        WHEN 'Low' THEN 4\n",
    "    END;"
   ]
  },
  {
   "cell_type": "markdown",
   "id": "708ec67e-bc0a-4b3c-b3c7-122fdff35e4d",
   "metadata": {
    "name": "cell42"
   },
   "source": [
    "### 12.4 🗺️ Customer Journey Map - Plot those customer adventures"
   ]
  },
  {
   "cell_type": "code",
   "execution_count": null,
   "id": "133e19c6-7027-41be-9dfd-a547b2252f61",
   "metadata": {
    "language": "sql",
    "name": "cell43"
   },
   "outputs": [],
   "source": [
    "WITH customer_journey AS (\n",
    "    SELECT \n",
    "        cps.customer_id,\n",
    "        cps.derived_persona,\n",
    "        cps.churn_risk,\n",
    "        cps.upsell_opportunity,\n",
    "        cps.avg_sentiment,\n",
    "        cps.sentiment_trend,\n",
    "        cps.ticket_count,\n",
    "        cps.avg_rating,\n",
    "        cps.customer_summary\n",
    "    FROM ANALYTICS.CUSTOMER_PERSONA_SIGNALS cps\n",
    ")\n",
    "SELECT \n",
    "    derived_persona,\n",
    "    churn_risk,\n",
    "    upsell_opportunity,\n",
    "    COUNT(*) as customer_count,\n",
    "    ROUND(AVG(avg_sentiment), 2) as avg_sentiment,\n",
    "    ROUND(AVG(avg_rating), 2) as avg_rating,\n",
    "    ROUND(AVG(ticket_count), 2) as avg_tickets\n",
    "FROM customer_journey\n",
    "GROUP BY derived_persona, churn_risk, upsell_opportunity\n",
    "ORDER BY customer_count DESC;"
   ]
  },
  {
   "cell_type": "markdown",
   "id": "74da7660-4cd6-4814-825b-dcb69918bdd3",
   "metadata": {
    "name": "cell44"
   },
   "source": [
    "### 12.5 🌍 Global Customer Vibes - How's the love worldwide?"
   ]
  },
  {
   "cell_type": "code",
   "execution_count": null,
   "id": "b68a1ea5-37db-4d97-bd1c-3b16173049a6",
   "metadata": {
    "language": "sql",
    "name": "cell45"
   },
   "outputs": [],
   "source": [
    "SELECT \n",
    "    review_language,\n",
    "    COUNT(*) as review_count,\n",
    "    ROUND(AVG(review_rating), 2) as avg_rating,\n",
    "    ROUND(AVG(sentiment_score), 2) as avg_sentiment,\n",
    "    COUNT(DISTINCT customer_id) as unique_customers\n",
    "FROM ANALYTICS.FACT_PRODUCT_REVIEWS\n",
    "GROUP BY review_language\n",
    "ORDER BY review_count DESC;"
   ]
  },
  {
   "cell_type": "markdown",
   "id": "88d75bee-478e-4770-bce5-f2a1e37c6f70",
   "metadata": {
    "name": "cell46"
   },
   "source": [
    "### 12.6 🤝 Customer Touch Points - Where and how are they reaching out?"
   ]
  },
  {
   "cell_type": "code",
   "execution_count": null,
   "id": "ce32eff2-d389-448d-96cd-de00191c437f",
   "metadata": {
    "language": "sql",
    "name": "cell47"
   },
   "outputs": [],
   "source": [
    "SELECT \n",
    "    interaction_type,\n",
    "    COUNT(*) as interaction_count,\n",
    "    ROUND(AVG(sentiment_score), 2) as avg_sentiment,\n",
    "    COUNT(DISTINCT customer_id) as unique_customers\n",
    "FROM ANALYTICS.FACT_CUSTOMER_INTERACTIONS\n",
    "GROUP BY interaction_type\n",
    "ORDER BY interaction_count DESC;"
   ]
  },
  {
   "cell_type": "markdown",
   "id": "d9444e13-a3d9-440c-9d5f-e3193dbf6871",
   "metadata": {
    "name": "cell48"
   },
   "source": [
    "### 12.7 💰 Value vs. Vibes Analysis - Are our VIPs feeling the love?"
   ]
  },
  {
   "cell_type": "code",
   "execution_count": null,
   "id": "c9cd89d0-aeb2-43dc-bb24-b4fdf8a906ab",
   "metadata": {
    "language": "sql",
    "name": "cell49"
   },
   "outputs": [],
   "source": [
    "SELECT \n",
    "    CASE \n",
    "        WHEN lifetime_value >= 1000 THEN 'High Value'\n",
    "        WHEN lifetime_value >= 500 THEN 'Medium Value'\n",
    "        ELSE 'Low Value'\n",
    "    END as value_segment,\n",
    "    COUNT(*) as customer_count,\n",
    "    ROUND(AVG(cps.avg_sentiment), 2) as avg_sentiment, -- aliased avg_sentiment to avoid ambiguity\n",
    "    ROUND(AVG(cps.ticket_count), 2) as avg_tickets,   -- aliased ticket_count\n",
    "    ROUND(AVG(cps.avg_rating), 2) as avg_rating     -- aliased avg_rating\n",
    "FROM ANALYTICS.CUSTOMER_PERSONA_SIGNALS cps\n",
    "JOIN ANALYTICS.CUSTOMER_BASE cb USING (customer_id)\n",
    "GROUP BY value_segment\n",
    "ORDER BY \n",
    "    CASE value_segment\n",
    "        WHEN 'High Value' THEN 1\n",
    "        WHEN 'Medium Value' THEN 2\n",
    "        WHEN 'Low Value' THEN 3\n",
    "    END;"
   ]
  },
  {
   "cell_type": "markdown",
   "id": "a0c1a649-ce75-40d0-8666-f2c576ded131",
   "metadata": {
    "name": "cell50"
   },
   "source": [
    "## 13. Table and Column Comments\n",
    "Add descriptive comments to tables and columns to improve data discoverability and understanding."
   ]
  },
  {
   "cell_type": "code",
   "execution_count": null,
   "id": "ab6294ae-11e3-481b-bce3-8d49ad0c8154",
   "metadata": {
    "language": "sql",
    "name": "cell51"
   },
   "outputs": [],
   "source": [
    "USE SCHEMA ANALYTICS;\n",
    "\n",
    "-- Table comments\n",
    "COMMENT ON TABLE CUSTOMER_BASE IS 'Core customer information containing demographic data and customer identifiers';\n",
    "COMMENT ON TABLE FACT_CUSTOMER_INTERACTIONS IS 'Customer interaction events with timestamps, interaction types, and sentiment analysis scores';\n",
    "COMMENT ON TABLE FACT_PRODUCT_REVIEWS IS 'Product reviews with ratings, review text, and sentiment analysis across multiple languages';\n",
    "COMMENT ON TABLE FACT_SUPPORT_TICKETS IS 'Support tickets with priority levels, resolution times, and customer satisfaction metrics';\n",
    "COMMENT ON TABLE SENTIMENT_TRENDS IS 'Aggregated customer sentiment metrics including trends, volatility, and average sentiment scores';\n",
    "COMMENT ON TABLE INSIGHT_SUMMARIES IS 'Cortex LLM function summaries of customer behavior and preferences for business insights';\n",
    "COMMENT ON TABLE TICKET_PATTERNS IS 'Patterns and trends in customer support tickets including categorization and priority distribution';\n",
    "COMMENT ON TABLE CUSTOMER_PERSONA_SIGNALS IS 'Customer segmentation data with derived personas, churn risk, and upsell opportunity indicators';\n",
    "\n",
    "-- Column comments for STG_CUSTOMER_INTERACTIONS\n",
    "COMMENT ON COLUMN STG_CUSTOMER_INTERACTIONS.interaction_id IS 'Unique identifier for each customer interaction';\n",
    "COMMENT ON COLUMN STG_CUSTOMER_INTERACTIONS.customer_id IS 'Unique identifier for the customer';\n",
    "COMMENT ON COLUMN STG_CUSTOMER_INTERACTIONS.interaction_date IS 'Timestamp when the interaction occurred';\n",
    "COMMENT ON COLUMN STG_CUSTOMER_INTERACTIONS.agent_id IS 'Unique identifier for the customer service agent';\n",
    "COMMENT ON COLUMN STG_CUSTOMER_INTERACTIONS.interaction_type IS 'Type of customer interaction (e.g., call, email, chat)';\n",
    "COMMENT ON COLUMN STG_CUSTOMER_INTERACTIONS.interaction_notes IS 'Detailed notes or transcript of the interaction';\n",
    "\n",
    "-- Column comments for STG_PRODUCT_REVIEWS\n",
    "COMMENT ON COLUMN STG_PRODUCT_REVIEWS.review_id IS 'Unique identifier for each product review';\n",
    "COMMENT ON COLUMN STG_PRODUCT_REVIEWS.customer_id IS 'Unique identifier for the customer who wrote the review';\n",
    "COMMENT ON COLUMN STG_PRODUCT_REVIEWS.product_id IS 'Unique identifier for the reviewed product';\n",
    "COMMENT ON COLUMN STG_PRODUCT_REVIEWS.review_date IS 'Timestamp when the review was posted';\n",
    "COMMENT ON COLUMN STG_PRODUCT_REVIEWS.review_rating IS 'Numeric rating given by the customer (1-5)';\n",
    "COMMENT ON COLUMN STG_PRODUCT_REVIEWS.review_text IS 'Text content of the product review';\n",
    "COMMENT ON COLUMN STG_PRODUCT_REVIEWS.review_language IS 'Language code of the review text';\n",
    "\n",
    "-- Column comments for STG_SUPPORT_TICKETS\n",
    "COMMENT ON COLUMN STG_SUPPORT_TICKETS.ticket_id IS 'Unique identifier for each support ticket';\n",
    "COMMENT ON COLUMN STG_SUPPORT_TICKETS.customer_id IS 'Unique identifier for the customer who created the ticket';\n",
    "COMMENT ON COLUMN STG_SUPPORT_TICKETS.ticket_date IS 'Timestamp when the ticket was created';\n",
    "COMMENT ON COLUMN STG_SUPPORT_TICKETS.ticket_status IS 'Current status of the support ticket';\n",
    "COMMENT ON COLUMN STG_SUPPORT_TICKETS.ticket_category IS 'Category classification of the support ticket';\n",
    "COMMENT ON COLUMN STG_SUPPORT_TICKETS.ticket_description IS 'Detailed description of the support issue';\n",
    "\n",
    "-- Column comments for CUSTOMER_BASE\n",
    "COMMENT ON COLUMN CUSTOMER_BASE.customer_id IS 'Unique identifier for the customer';\n",
    "COMMENT ON COLUMN CUSTOMER_BASE.persona IS 'Customer persona classification';\n",
    "COMMENT ON COLUMN CUSTOMER_BASE.sign_up_date IS 'Date when the customer first registered';\n",
    "COMMENT ON COLUMN CUSTOMER_BASE.products_owned IS 'Number of products owned by the customer';\n",
    "COMMENT ON COLUMN CUSTOMER_BASE.lifetime_value IS 'Total lifetime value of the customer';\n",
    "\n",
    "-- Column comments for FACT_CUSTOMER_INTERACTIONS\n",
    "COMMENT ON COLUMN FACT_CUSTOMER_INTERACTIONS.interaction_id IS 'Unique identifier for each customer interaction';\n",
    "COMMENT ON COLUMN FACT_CUSTOMER_INTERACTIONS.customer_id IS 'Unique identifier for the customer';\n",
    "COMMENT ON COLUMN FACT_CUSTOMER_INTERACTIONS.interaction_date IS 'Timestamp when the interaction occurred';\n",
    "COMMENT ON COLUMN FACT_CUSTOMER_INTERACTIONS.agent_id IS 'Unique identifier for the customer service agent';\n",
    "COMMENT ON COLUMN FACT_CUSTOMER_INTERACTIONS.interaction_type IS 'Type of customer interaction (e.g., call, email, chat)';\n",
    "COMMENT ON COLUMN FACT_CUSTOMER_INTERACTIONS.interaction_notes IS 'Detailed notes or transcript of the interaction';\n",
    "COMMENT ON COLUMN FACT_CUSTOMER_INTERACTIONS.sentiment_score IS 'Cortex LLM function sentiment score for the interaction (-1 to 1)';\n",
    "\n",
    "-- Column comments for FACT_PRODUCT_REVIEWS\n",
    "COMMENT ON COLUMN FACT_PRODUCT_REVIEWS.review_id IS 'Unique identifier for each product review';\n",
    "COMMENT ON COLUMN FACT_PRODUCT_REVIEWS.customer_id IS 'Unique identifier for the customer who wrote the review';\n",
    "COMMENT ON COLUMN FACT_PRODUCT_REVIEWS.product_id IS 'Unique identifier for the reviewed product';\n",
    "COMMENT ON COLUMN FACT_PRODUCT_REVIEWS.review_date IS 'Timestamp when the review was posted';\n",
    "COMMENT ON COLUMN FACT_PRODUCT_REVIEWS.review_rating IS 'Numeric rating given by the customer (1-5)';\n",
    "COMMENT ON COLUMN FACT_PRODUCT_REVIEWS.review_text IS 'Text content of the product review';\n",
    "COMMENT ON COLUMN FACT_PRODUCT_REVIEWS.review_language IS 'Language code of the review text';\n",
    "COMMENT ON COLUMN FACT_PRODUCT_REVIEWS.sentiment_score IS 'Cortex LLM function sentiment score for the review (-1 to 1)';\n",
    "COMMENT ON COLUMN FACT_PRODUCT_REVIEWS.review_text_english IS 'English translation of the review text';\n",
    "\n",
    "-- Column comments for FACT_SUPPORT_TICKETS\n",
    "COMMENT ON COLUMN FACT_SUPPORT_TICKETS.ticket_id IS 'Unique identifier for each support ticket';\n",
    "COMMENT ON COLUMN FACT_SUPPORT_TICKETS.customer_id IS 'Unique identifier for the customer who created the ticket';\n",
    "COMMENT ON COLUMN FACT_SUPPORT_TICKETS.ticket_date IS 'Timestamp when the ticket was created';\n",
    "COMMENT ON COLUMN FACT_SUPPORT_TICKETS.ticket_status IS 'Current status of the support ticket';\n",
    "COMMENT ON COLUMN FACT_SUPPORT_TICKETS.ticket_category IS 'Category classification of the support ticket';\n",
    "COMMENT ON COLUMN FACT_SUPPORT_TICKETS.ticket_description IS 'Detailed description of the support issue';\n",
    "COMMENT ON COLUMN FACT_SUPPORT_TICKETS.sentiment_score IS 'Cortex LLM function sentiment score for the ticket (-1 to 1)';\n",
    "COMMENT ON COLUMN FACT_SUPPORT_TICKETS.priority_level IS 'Cortex-classified priority level (Critical, High, Medium, Low)';\n",
    "COMMENT ON COLUMN FACT_SUPPORT_TICKETS.expected_resolution_timeframe IS 'Cortex-extracted customer expected resolution timeframe';\n",
    "COMMENT ON COLUMN FACT_SUPPORT_TICKETS.requested_remedy IS 'Cortex-extracted customer requested compensation or remedy';\n",
    "\n",
    "-- Column comments for SENTIMENT_ANALYSIS\n",
    "COMMENT ON COLUMN SENTIMENT_ANALYSIS.customer_id IS 'Unique identifier for the customer';\n",
    "COMMENT ON COLUMN SENTIMENT_ANALYSIS.interaction_date IS 'Timestamp of the interaction';\n",
    "COMMENT ON COLUMN SENTIMENT_ANALYSIS.sentiment_score IS 'Cortex LLM function sentiment score (-1 to 1)';\n",
    "COMMENT ON COLUMN SENTIMENT_ANALYSIS.source_type IS 'Type of interaction (interaction, review, ticket)';\n",
    "\n",
    "-- Column comments for SENTIMENT_TRENDS\n",
    "COMMENT ON COLUMN SENTIMENT_TRENDS.customer_id IS 'Unique identifier for the customer';\n",
    "COMMENT ON COLUMN SENTIMENT_TRENDS.sentiment_history IS 'Array of sentiment scores over time';\n",
    "COMMENT ON COLUMN SENTIMENT_TRENDS.avg_sentiment IS 'Average sentiment score across all interactions';\n",
    "COMMENT ON COLUMN SENTIMENT_TRENDS.min_sentiment IS 'Lowest sentiment score recorded';\n",
    "COMMENT ON COLUMN SENTIMENT_TRENDS.max_sentiment IS 'Highest sentiment score recorded';\n",
    "COMMENT ON COLUMN SENTIMENT_TRENDS.sentiment_volatility IS 'Range between min and max sentiment scores';\n",
    "COMMENT ON COLUMN SENTIMENT_TRENDS.sentiment_trend IS 'Change in sentiment from first to last interaction';\n",
    "\n",
    "-- Column comments for TICKET_PATTERNS\n",
    "COMMENT ON COLUMN TICKET_PATTERNS.customer_id IS 'Unique identifier for the customer';\n",
    "COMMENT ON COLUMN TICKET_PATTERNS.ticket_count IS 'Total number of support tickets';\n",
    "COMMENT ON COLUMN TICKET_PATTERNS.first_ticket_date IS 'Date of first support ticket';\n",
    "COMMENT ON COLUMN TICKET_PATTERNS.most_recent_ticket_date IS 'Date of most recent support ticket';\n",
    "COMMENT ON COLUMN TICKET_PATTERNS.ticket_categories IS 'Array of ticket categories in chronological order';\n",
    "COMMENT ON COLUMN TICKET_PATTERNS.ticket_priorities IS 'Array of ticket priorities in chronological order';\n",
    "\n",
    "-- Column comments for INSIGHT_SUMMARIES\n",
    "COMMENT ON COLUMN INSIGHT_SUMMARIES.customer_id IS 'Unique identifier for the customer';\n",
    "COMMENT ON COLUMN INSIGHT_SUMMARIES.customer_summary IS 'Cortex LLM function summary of customer interactions';\n",
    "\n",
    "-- Column comments for CUSTOMER_PERSONA_SIGNALS\n",
    "COMMENT ON COLUMN CUSTOMER_PERSONA_SIGNALS.customer_id IS 'Unique identifier for the customer';\n",
    "COMMENT ON COLUMN CUSTOMER_PERSONA_SIGNALS.avg_sentiment IS 'Average sentiment score across all interactions';\n",
    "COMMENT ON COLUMN CUSTOMER_PERSONA_SIGNALS.sentiment_trend IS 'Overall trend in sentiment over time';\n",
    "COMMENT ON COLUMN CUSTOMER_PERSONA_SIGNALS.sentiment_volatility IS 'Variability in sentiment scores';\n",
    "COMMENT ON COLUMN CUSTOMER_PERSONA_SIGNALS.overall_sentiment IS 'Categorized sentiment (Positive, Neutral, Negative)';\n",
    "COMMENT ON COLUMN CUSTOMER_PERSONA_SIGNALS.ticket_count IS 'Total number of support tickets';\n",
    "COMMENT ON COLUMN CUSTOMER_PERSONA_SIGNALS.ticket_categories IS 'Array of ticket categories';\n",
    "COMMENT ON COLUMN CUSTOMER_PERSONA_SIGNALS.ticket_priorities IS 'Array of ticket priorities';\n",
    "COMMENT ON COLUMN CUSTOMER_PERSONA_SIGNALS.avg_rating IS 'Average product review rating';\n",
    "COMMENT ON COLUMN CUSTOMER_PERSONA_SIGNALS.customer_summary IS 'Cortex LLM function summary of customer interactions';\n",
    "COMMENT ON COLUMN CUSTOMER_PERSONA_SIGNALS.derived_persona IS 'Cortex-classified customer persona type';\n",
    "COMMENT ON COLUMN CUSTOMER_PERSONA_SIGNALS.churn_risk IS 'Predicted risk of customer churn (High, Medium, Low)';\n",
    "COMMENT ON COLUMN CUSTOMER_PERSONA_SIGNALS.upsell_opportunity IS 'Predicted opportunity for upselling (High, Medium, Low)';"
   ]
  },
  {
   "cell_type": "markdown",
   "id": "87884374-70cf-47a6-8a5d-c5f19b56d310",
   "metadata": {
    "name": "cell52"
   },
   "source": [
    "## 14. 🎉 Final Setup - Stage for Semantic Models\n",
    "Create a stage in the `SEMANTIC_MODELS` schema, possibly for exporting or versioning semantic model definitions or outputs."
   ]
  },
  {
   "cell_type": "code",
   "execution_count": null,
   "id": "c4af5e18-a54e-45a8-900d-58189be5c28b",
   "metadata": {
    "language": "sql",
    "name": "cell53"
   },
   "outputs": [],
   "source": [
    "USE SCHEMA SEMANTIC_MODELS;\n",
    "\n",
    "CREATE OR REPLACE STAGE CUSTOMER_INSIGHTS;"
   ]
  },
  {
   "cell_type": "markdown",
   "id": "49384dc5-51ac-4601-a771-2c9c68a61fa8",
   "metadata": {
    "collapsed": false,
    "name": "cell54"
   },
   "source": [
    "## End of Notebook\n",
    "All SQL commands from the provided script have been organized into this Snowflake Notebook structure."
   ]
  }
 ],
 "metadata": {
  "kernelspec": {
   "display_name": "Python 3 (ipykernel)",
   "language": "python",
   "name": "python3"
  },
  "language_info": {
   "codemirror_mode": {
    "name": "sql",
    "version": 3
   },
   "file_extension": ".sql",
   "mimetype": "text/x-sql",
   "name": "sql",
   "pygments_lexer": "sql",
   "version": "0.0.0"
  },
  "lastEditStatus": {
   "authorEmail": "alex.ross@snowflake.com",
   "authorId": "796694457951",
   "authorName": "SERVICE",
   "lastEditTime": 1749062759974,
   "notebookId": "r3lbaczt3b5xjghapazf",
   "sessionId": "41842669-f17b-43c0-bcde-d4d94c7bf698"
  }
 },
 "nbformat": 4,
 "nbformat_minor": 5
}
